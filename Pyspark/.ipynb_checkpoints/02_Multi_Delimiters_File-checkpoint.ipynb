{
 "cells": [
  {
   "cell_type": "code",
   "execution_count": 128,
   "id": "18ee2ae2",
   "metadata": {},
   "outputs": [
    {
     "name": "stdout",
     "output_type": "stream",
     "text": [
      "+----+---+------+\n",
      "|name|age|gender|\n",
      "+----+---+------+\n",
      "| Sam| 34|  Male|\n",
      "|John| 60|Female|\n",
      "+----+---+------+\n",
      "\n"
     ]
    }
   ],
   "source": [
    "import pyspark\n",
    "from pyspark.sql import SparkSession\n",
    "spark = SparkSession.builder \\\n",
    "    .appName(\"proj\") \\\n",
    "    .getOrCreate()\n",
    "df = spark.read.text(\"./02_input.txt\")\n",
    "header = df.take(1)[0][0]\n",
    "schema = header.split(\"@|#\")\n",
    "df_rdd = df.filter(~df.value.isin(header)).rdd\n",
    "df_rdd = df_rdd.map(lambda x: x[0].replace('\"', \"\"))\n",
    "df = df_rdd.map(lambda x: x.split(\"@|#\")).toDF(schema)\n",
    "df.show()"
   ]
  },
  {
   "cell_type": "code",
   "execution_count": 139,
   "id": "c185174a",
   "metadata": {},
   "outputs": [],
   "source": [
    "import pyspark\n",
    "from pyspark.sql import SparkSession\n",
    "spark = SparkSession.builder \\\n",
    "    .appName(\"proj\") \\\n",
    "    .getOrCreate()"
   ]
  },
  {
   "cell_type": "code",
   "execution_count": 147,
   "id": "14ad7065",
   "metadata": {},
   "outputs": [
    {
     "name": "stdout",
     "output_type": "stream",
     "text": [
      "+----+---+------+\n",
      "|name|age|gender|\n",
      "+----+---+------+\n",
      "| Sam| 34|  Male|\n",
      "|John| 60|Female|\n",
      "+----+---+------+\n",
      "\n"
     ]
    }
   ],
   "source": [
    "df = spark.read.option(\"sep\", \"@|#\").option(\"header\",\"true\").csv(\"./02_input.txt\")\n",
    "df.show()"
   ]
  },
  {
   "cell_type": "code",
   "execution_count": 155,
   "id": "ff53a53d",
   "metadata": {},
   "outputs": [
    {
     "name": "stdout",
     "output_type": "stream",
     "text": [
      "+----+---+------+\n",
      "|name|age|gender|\n",
      "+----+---+------+\n",
      "| Sam| 34|  Male|\n",
      "|John| 60|Female|\n",
      "+----+---+------+\n",
      "\n"
     ]
    }
   ],
   "source": [
    "df = spark.read.option(\"delimiter\", \"@|#\").option(\"header\",\"true\").csv(\"./02_input.txt\")\n",
    "df.show()"
   ]
  },
  {
   "cell_type": "code",
   "execution_count": 154,
   "id": "d51d1fa7",
   "metadata": {},
   "outputs": [
    {
     "name": "stdout",
     "output_type": "stream",
     "text": [
      "+--------------------+\n",
      "|               value|\n",
      "+--------------------+\n",
      "| name@|#age@|#gender|\n",
      "|   \"Sam\"@|#34@|#Male|\n",
      "|\"John\"@|#60@|#Female|\n",
      "+--------------------+\n",
      "\n"
     ]
    }
   ],
   "source": [
    "df = spark.read.text(\"./02_input.txt\")\n",
    "df.show()"
   ]
  },
  {
   "cell_type": "code",
   "execution_count": 153,
   "id": "a64d1fc6",
   "metadata": {},
   "outputs": [],
   "source": [
    "header = df.take(1)[0][0]\n",
    "schema = header.split(\"@|#\")"
   ]
  },
  {
   "cell_type": "code",
   "execution_count": 132,
   "id": "60925c9c",
   "metadata": {},
   "outputs": [],
   "source": [
    "df_rdd = df.filter(~df.value.isin(header)).rdd"
   ]
  },
  {
   "cell_type": "code",
   "execution_count": 133,
   "id": "2206eda1",
   "metadata": {},
   "outputs": [
    {
     "data": {
      "text/plain": [
       "[Row(value='\"Sam\"@|#34@|#Male'), Row(value='\"John\"@|#60@|#Female')]"
      ]
     },
     "execution_count": 133,
     "metadata": {},
     "output_type": "execute_result"
    }
   ],
   "source": [
    "df_rdd.collect()"
   ]
  },
  {
   "cell_type": "code",
   "execution_count": 134,
   "id": "8fa6960c",
   "metadata": {},
   "outputs": [],
   "source": [
    "df_rdd = df_rdd.map(lambda x: x[0].replace('\"', \"\"))"
   ]
  },
  {
   "cell_type": "code",
   "execution_count": 135,
   "id": "79bcacc0",
   "metadata": {},
   "outputs": [
    {
     "data": {
      "text/plain": [
       "['Sam@|#34@|#Male', 'John@|#60@|#Female']"
      ]
     },
     "execution_count": 135,
     "metadata": {},
     "output_type": "execute_result"
    }
   ],
   "source": [
    "df_rdd.collect()"
   ]
  },
  {
   "cell_type": "code",
   "execution_count": 136,
   "id": "654fdbfd",
   "metadata": {},
   "outputs": [],
   "source": [
    "df = df_rdd.map(lambda x: x.split(\"@|#\")).toDF(schema)"
   ]
  },
  {
   "cell_type": "code",
   "execution_count": 138,
   "id": "af6418d1",
   "metadata": {
    "scrolled": true
   },
   "outputs": [
    {
     "name": "stdout",
     "output_type": "stream",
     "text": [
      "+----+---+------+\n",
      "|name|age|gender|\n",
      "+----+---+------+\n",
      "| Sam| 34|  Male|\n",
      "|John| 60|Female|\n",
      "+----+---+------+\n",
      "\n"
     ]
    }
   ],
   "source": [
    "df.show()"
   ]
  }
 ],
 "metadata": {
  "kernelspec": {
   "display_name": "Python 3",
   "language": "python",
   "name": "python3"
  },
  "language_info": {
   "codemirror_mode": {
    "name": "ipython",
    "version": 3
   },
   "file_extension": ".py",
   "mimetype": "text/x-python",
   "name": "python",
   "nbconvert_exporter": "python",
   "pygments_lexer": "ipython3",
   "version": "3.9.11"
  }
 },
 "nbformat": 4,
 "nbformat_minor": 5
}

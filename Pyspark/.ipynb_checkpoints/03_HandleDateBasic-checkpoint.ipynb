{
 "cells": [
  {
   "cell_type": "code",
   "execution_count": 17,
   "id": "cc5a54c8",
   "metadata": {},
   "outputs": [
    {
     "name": "stdout",
     "output_type": "stream",
     "text": [
      "+----------+\n",
      "|   EndDate|\n",
      "+----------+\n",
      "|2020-05-12|\n",
      "|2020-05-08|\n",
      "+----------+\n",
      "\n"
     ]
    }
   ],
   "source": [
    "import pyspark\n",
    "from pyspark.sql.functions import *\n",
    "from pyspark.sql import SparkSession\n",
    "spark = SparkSession.builder.master(\"local[*]\").appName(\"proj\").getOrCreate()\n",
    "\n",
    "df = spark.read.option(\"header\",\"true\").csv(\"./03_input.csv\")\n",
    "df = df.withColumn(\"Date\", to_date(col(\"RechargeDate\"),\"yyyyMMdd\"))\n",
    "\n",
    "#OPTION A\n",
    "df = df.withColumn(\"NextDate\", date_add(\"Date\", col(\"RemainingDays\").cast(\"int\")))\n",
    "df.show()\n",
    "\n",
    "#OPTION B\n",
    "query = \"date_add(Date, CAST(RemainingDays AS INT)) AS EndDate\"\n",
    "df.select(expr(query)).show()"
   ]
  },
  {
   "cell_type": "code",
   "execution_count": 1,
   "id": "7a53fd2a",
   "metadata": {},
   "outputs": [],
   "source": [
    "import pyspark\n",
    "from pyspark.sql import SparkSession\n",
    "spark = SparkSession.builder \\\n",
    "    .appName(\"proj\") \\\n",
    "    .getOrCreate()"
   ]
  },
  {
   "cell_type": "code",
   "execution_count": 2,
   "id": "2292acde",
   "metadata": {},
   "outputs": [
    {
     "name": "stdout",
     "output_type": "stream",
     "text": [
      "+----------+------------+-------------+---------+\n",
      "|RechargeId|RechargeDate|RemainingDays|validitiy|\n",
      "+----------+------------+-------------+---------+\n",
      "|       R20|    20200511|            1|   online|\n",
      "|       R21|    20200119|          110|   online|\n",
      "+----------+------------+-------------+---------+\n",
      "\n"
     ]
    }
   ],
   "source": [
    "df = spark.read.option(\"header\",\"true\").option(\"inferSchema\", \"true\").csv(\"./03_input.csv\")\n",
    "df.show()"
   ]
  },
  {
   "cell_type": "code",
   "execution_count": 3,
   "id": "0f03814d",
   "metadata": {},
   "outputs": [
    {
     "name": "stdout",
     "output_type": "stream",
     "text": [
      "root\n",
      " |-- RechargeId: string (nullable = true)\n",
      " |-- RechargeDate: integer (nullable = true)\n",
      " |-- RemainingDays: integer (nullable = true)\n",
      " |-- validitiy: string (nullable = true)\n",
      "\n"
     ]
    }
   ],
   "source": [
    "df.printSchema()"
   ]
  },
  {
   "cell_type": "code",
   "execution_count": 51,
   "id": "f377361d",
   "metadata": {
    "scrolled": true
   },
   "outputs": [
    {
     "name": "stdout",
     "output_type": "stream",
     "text": [
      "+----------+------------+-------------+---------+----------+\n",
      "|RechargeId|RechargeDate|RemainingDays|validitiy|      Date|\n",
      "+----------+------------+-------------+---------+----------+\n",
      "|       R20|    20200511|            1|   online|2020-05-11|\n",
      "|       R21|    20200119|          110|   online|2020-01-19|\n",
      "+----------+------------+-------------+---------+----------+\n",
      "\n"
     ]
    }
   ],
   "source": [
    "from pyspark.sql.functions import *\n",
    "df = df.withColumn(\"Date\", to_date(col(\"RechargeDate\"),\"yyyyMMdd\"))\n",
    "df.show()"
   ]
  },
  {
   "cell_type": "code",
   "execution_count": 20,
   "id": "18489866",
   "metadata": {},
   "outputs": [
    {
     "name": "stdout",
     "output_type": "stream",
     "text": [
      "+----------+------------+-------------+---------+----------+----------+\n",
      "|RechargeId|RechargeDate|RemainingDays|validitiy|      Date|  NextDate|\n",
      "+----------+------------+-------------+---------+----------+----------+\n",
      "|       R20|    20200511|            1|   online|2020-05-11|2020-05-12|\n",
      "|       R21|    20200119|          110|   online|2020-01-19|2020-05-08|\n",
      "+----------+------------+-------------+---------+----------+----------+\n",
      "\n"
     ]
    }
   ],
   "source": [
    "df = df.withColumn(\"NextDate\", date_add(\"Date\", col(\"RemainingDays\").cast(\"int\")))\n",
    "df.show()"
   ]
  },
  {
   "cell_type": "code",
   "execution_count": 21,
   "id": "f726dd31",
   "metadata": {},
   "outputs": [
    {
     "name": "stdout",
     "output_type": "stream",
     "text": [
      "+----------+\n",
      "|   EndDate|\n",
      "+----------+\n",
      "|2020-05-12|\n",
      "|2020-05-08|\n",
      "+----------+\n",
      "\n"
     ]
    }
   ],
   "source": [
    "query = \"date_add(Date, CAST(RemainingDays AS INT)) AS EndDate\"\n",
    "df.select(expr(query)).show()"
   ]
  }
 ],
 "metadata": {
  "kernelspec": {
   "display_name": "Python 3",
   "language": "python",
   "name": "python3"
  },
  "language_info": {
   "codemirror_mode": {
    "name": "ipython",
    "version": 3
   },
   "file_extension": ".py",
   "mimetype": "text/x-python",
   "name": "python",
   "nbconvert_exporter": "python",
   "pygments_lexer": "ipython3",
   "version": "3.9.11"
  }
 },
 "nbformat": 4,
 "nbformat_minor": 5
}

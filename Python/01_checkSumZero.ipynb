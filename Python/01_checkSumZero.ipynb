{
 "cells": [
  {
   "cell_type": "code",
   "execution_count": 2,
   "id": "2f495d1b",
   "metadata": {},
   "outputs": [
    {
     "name": "stdout",
     "output_type": "stream",
     "text": [
      "[-6, 7, 6, -10, 8, 9]\n",
      "-6 6\n"
     ]
    },
    {
     "data": {
      "text/plain": [
       "True"
      ]
     },
     "execution_count": 2,
     "metadata": {},
     "output_type": "execute_result"
    }
   ],
   "source": [
    "# Online Python compiler (interpreter) to run Python online.\n",
    "# Write Python 3 code in this online editor and run it.\n",
    "# Problem: Find out if any pair in the list adds up to zero\n",
    "import random\n",
    "randomlist = []\n",
    "for i in range(0,6):\n",
    "    n = random.randint(-10,10)\n",
    "    randomlist.append(n)\n",
    "print(randomlist) # Generating random list to play as a new sample case each run\n",
    "\n",
    "def checkSumZero(lst):\n",
    "    lst = sorted(lst, key=abs) #Sorting the input on the absolute value ex: [-5, 5, 7, -10, 10] O(n): nlogn\n",
    "    ptr_one, ptr_two = 0, 1\n",
    "    while ptr_two < len(lst): # A two pointer approach\n",
    "        total = lst[ptr_one] + lst[ptr_two]\n",
    "        if total == 0:\n",
    "            print(lst[ptr_one], lst[ptr_two])\n",
    "            return True\n",
    "        else:\n",
    "            ptr_one += 1\n",
    "            ptr_two += 1\n",
    "    print(\"NO CLUE\")\n",
    "    return False\n",
    "checkSumZero(randomlist)"
   ]
  }
 ],
 "metadata": {
  "kernelspec": {
   "display_name": "Python 3",
   "language": "python",
   "name": "python3"
  },
  "language_info": {
   "codemirror_mode": {
    "name": "ipython",
    "version": 3
   },
   "file_extension": ".py",
   "mimetype": "text/x-python",
   "name": "python",
   "nbconvert_exporter": "python",
   "pygments_lexer": "ipython3",
   "version": "3.9.11"
  }
 },
 "nbformat": 4,
 "nbformat_minor": 5
}

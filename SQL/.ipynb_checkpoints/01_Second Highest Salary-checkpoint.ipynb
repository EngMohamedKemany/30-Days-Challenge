{
 "cells": [
  {
   "cell_type": "markdown",
   "id": "abd0d384",
   "metadata": {},
   "source": [
    "## Approach 1 will not work if the answer is null\n",
    "\n",
    "with CTE AS (\n",
    "SELECT salary\n",
    "FROM Employee\n",
    "ORDER BY salary DESC\n",
    "LIMIT 2\n",
    ")\n",
    "\n",
    "SELECT SALARY AS SecondHighestSalary\n",
    "FROM CTE\n",
    "ORDER BY salary\n",
    "LIMIT 1;"
   ]
  },
  {
   "cell_type": "markdown",
   "id": "244085b6",
   "metadata": {},
   "source": [
    "## Approach 2 will work in all cases\n",
    "\n",
    "SELECT MAX(salary) as SecondHighestSalary\n",
    "\n"
   ]
  },
  {
   "cell_type": "markdown",
   "id": "46447ac3",
   "metadata": {},
   "source": [
    "FROM Employee WHERE salary "
   ]
  },
  {
   "cell_type": "markdown",
   "id": "e5976117",
   "metadata": {},
   "source": [
    "NOT IN (SELECT MAX(salary) FROM Employee);"
   ]
  }
 ],
 "metadata": {
  "kernelspec": {
   "display_name": "Python 3",
   "language": "python",
   "name": "python3"
  },
  "language_info": {
   "codemirror_mode": {
    "name": "ipython",
    "version": 3
   },
   "file_extension": ".py",
   "mimetype": "text/x-python",
   "name": "python",
   "nbconvert_exporter": "python",
   "pygments_lexer": "ipython3",
   "version": "3.9.11"
  }
 },
 "nbformat": 4,
 "nbformat_minor": 5
}
